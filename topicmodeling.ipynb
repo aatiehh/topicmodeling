{
 "cells": [
  {
   "cell_type": "markdown",
   "metadata": {
    "deletable": true,
    "editable": true
   },
   "source": [
    "In this study I read some URLs, parse some contents of them and apply Kmeans clustering to cluster them\n",
    "Notes:\n",
    "- I did not have enough time to do this project in JAVA\n",
    "- Not the whole \"useful\" content of the URls are being read\n",
    "- I obviously used some libraries but I hope I know the concepts behind the methods :)\n",
    "- Java is my strong language"
   ]
  },
  {
   "cell_type": "code",
   "execution_count": 1,
   "metadata": {
    "collapsed": false,
    "deletable": true,
    "editable": true
   },
   "outputs": [],
   "source": [
    "import urllib\n",
    "from BeautifulSoup import BeautifulSoup\n",
    "import numpy as np\n",
    "import scipy.misc\n",
    "import mglearn "
   ]
  },
  {
   "cell_type": "code",
   "execution_count": 2,
   "metadata": {
    "collapsed": false,
    "deletable": true,
    "editable": true
   },
   "outputs": [],
   "source": [
    "links = [\"https://www.webmd.com/digestive-disorders/diverticular-disease#1\",\n",
    "         \"https://www.washingtonpost.com/politics/trump-claims-his-asia-trip-forged-new-unity-against-north-korea/2017/11/15/7961639e-ca42-11e7-b0cf-7689a9f2d84e_story.html?utm_term=.14aff79f6a7d\",\n",
    "         \"https://www.theatlantic.com/politics/archive/2017/11/the-secret-correspondence-between-donald-trump-jr-and-wikileaks/545738/\",\n",
    "         \"https://mobile.nytimes.com/2017/11/15/us/politics/senate-house-tax-cut.html\",\n",
    "         \"https://www.fascrs.org/patients/disease-condition/diverticular-disease\",\n",
    "        ]\n",
    "\n"
   ]
  },
  {
   "cell_type": "code",
   "execution_count": 3,
   "metadata": {
    "collapsed": false,
    "deletable": true,
    "editable": true
   },
   "outputs": [],
   "source": [
    "data = []\n",
    "for link in links:\n",
    "    f = urllib.urlopen(link)\n",
    "    f_read = f.read()\n",
    "    parsed_html = BeautifulSoup(f_read)\n",
    "    body = parsed_html.body.find('div', attrs={'class':['article-body',\n",
    "                                                   'article-page active-page',\n",
    "                                                   'story-body-text story-content',\n",
    "                                                   'story-body story-body-2',\n",
    "                                                   'field-item even'\n",
    "                                                  ]}).text\n",
    "    data.append(body)\n",
    "\n",
    "\n",
    "\n"
   ]
  },
  {
   "cell_type": "code",
   "execution_count": 4,
   "metadata": {
    "collapsed": false
   },
   "outputs": [
    {
     "data": {
      "text/plain": [
       "5"
      ]
     },
     "execution_count": 4,
     "metadata": {},
     "output_type": "execute_result"
    }
   ],
   "source": [
    "len(data)"
   ]
  },
  {
   "cell_type": "code",
   "execution_count": 5,
   "metadata": {
    "collapsed": false,
    "deletable": true,
    "editable": true
   },
   "outputs": [],
   "source": [
    "from sklearn.feature_extraction.text import TfidfVectorizer"
   ]
  },
  {
   "cell_type": "markdown",
   "metadata": {
    "deletable": true,
    "editable": true
   },
   "source": [
    "Here we use the tfidf (term frq- inverse doc frequency) vectorizer\n",
    "We can pass the right parameters to the constructor to:\n",
    "- remove the stop words\n",
    "- to define the range of the frequency we wanna filter from this analysis\n",
    "- to tokenize and stem\n",
    "- ngram range \n",
    "- normalization ? ( I use norm 2 for Kmean algorithm)"
   ]
  },
  {
   "cell_type": "code",
   "execution_count": 6,
   "metadata": {
    "collapsed": false,
    "deletable": true,
    "editable": true
   },
   "outputs": [],
   "source": [
    "\n",
    "vectorizer = TfidfVectorizer(max_df=0.8, max_features=10000,\n",
    "                                 min_df=0.2, stop_words='english', norm = 'l2')\n",
    "\n",
    "tfdif_matrix = vectorizer.fit_transform(data)"
   ]
  },
  {
   "cell_type": "markdown",
   "metadata": {
    "deletable": true,
    "editable": true
   },
   "source": [
    "The whole point of vectorization was make it easy to find some distance.\n",
    "To be more particular:\n",
    "The distance is : 1 - COSINE(tfdfif matrix)"
   ]
  },
  {
   "cell_type": "code",
   "execution_count": 7,
   "metadata": {
    "collapsed": true,
    "deletable": true,
    "editable": true
   },
   "outputs": [],
   "source": [
    "from sklearn.cluster import KMeans"
   ]
  },
  {
   "cell_type": "code",
   "execution_count": 8,
   "metadata": {
    "collapsed": false,
    "deletable": true,
    "editable": true
   },
   "outputs": [],
   "source": [
    "kmeans = KMeans(n_clusters=3)\n",
    "topics = kmeans.fit(tfdif_matrix)"
   ]
  },
  {
   "cell_type": "code",
   "execution_count": 9,
   "metadata": {
    "collapsed": false
   },
   "outputs": [
    {
     "data": {
      "text/plain": [
       "array([0, 1, 1, 2, 0], dtype=int32)"
      ]
     },
     "execution_count": 9,
     "metadata": {},
     "output_type": "execute_result"
    }
   ],
   "source": [
    "kmeans.labels_"
   ]
  },
  {
   "cell_type": "code",
   "execution_count": 10,
   "metadata": {
    "collapsed": false,
    "deletable": true,
    "editable": true
   },
   "outputs": [],
   "source": [
    "features = np.array(vectorizer.get_feature_names())\n",
    "sorting = np.argsort(kmeans.cluster_centers_, axis = 1)[:,::-1]"
   ]
  },
  {
   "cell_type": "markdown",
   "metadata": {
    "collapsed": false,
    "deletable": true,
    "editable": true
   },
   "source": [
    "Let's print out the topics here:\n"
   ]
  },
  {
   "cell_type": "code",
   "execution_count": 11,
   "metadata": {
    "collapsed": false,
    "deletable": true,
    "editable": true
   },
   "outputs": [
    {
     "name": "stdout",
     "output_type": "stream",
     "text": [
      "topic 0       topic 1       topic 2       \n",
      "--------      --------      --------      \n",
      "colon         trump         tax           \n",
      "diverticulitiswikileaks     republicans   \n",
      "diverticulosisjr            senate        \n",
      "surgery       north         republican    \n",
      "symptoms      korea         health        \n",
      "diverticula   said          senators      \n",
      "nbsp          wrote         care          \n",
      "diverticular  did           house         \n",
      "infection     korean        mr            \n",
      "bleeding      america       repeal        \n",
      "\n",
      "\n"
     ]
    }
   ],
   "source": [
    "mglearn.tools.print_topics(topics=range(3), feature_names = features, sorting = sorting,\n",
    "                           topics_per_chunk = 3, n_words = 10)"
   ]
  },
  {
   "cell_type": "markdown",
   "metadata": {
    "collapsed": true,
    "deletable": true,
    "editable": true
   },
   "source": [
    "I think the results sort of make sense. The first cluster contains the specific health issue.\n",
    "The second and third clusters are politics related and tax reform and healthcare.\n"
   ]
  },
  {
   "cell_type": "code",
   "execution_count": null,
   "metadata": {
    "collapsed": false,
    "deletable": true,
    "editable": true
   },
   "outputs": [],
   "source": []
  },
  {
   "cell_type": "code",
   "execution_count": null,
   "metadata": {
    "collapsed": false,
    "deletable": true,
    "editable": true
   },
   "outputs": [],
   "source": []
  },
  {
   "cell_type": "code",
   "execution_count": null,
   "metadata": {
    "collapsed": false,
    "deletable": true,
    "editable": true
   },
   "outputs": [],
   "source": []
  },
  {
   "cell_type": "code",
   "execution_count": null,
   "metadata": {
    "collapsed": false,
    "deletable": true,
    "editable": true
   },
   "outputs": [],
   "source": []
  },
  {
   "cell_type": "code",
   "execution_count": null,
   "metadata": {
    "collapsed": true,
    "deletable": true,
    "editable": true
   },
   "outputs": [],
   "source": []
  }
 ],
 "metadata": {
  "kernelspec": {
   "display_name": "Python 2",
   "language": "python",
   "name": "python2"
  },
  "language_info": {
   "codemirror_mode": {
    "name": "ipython",
    "version": 2
   },
   "file_extension": ".py",
   "mimetype": "text/x-python",
   "name": "python",
   "nbconvert_exporter": "python",
   "pygments_lexer": "ipython2",
   "version": "2.7.10"
  }
 },
 "nbformat": 4,
 "nbformat_minor": 2
}
